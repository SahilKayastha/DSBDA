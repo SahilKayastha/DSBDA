{
 "cells": [
  {
   "cell_type": "markdown",
   "id": "015947b4-a39e-424a-a9be-1234637f6f2c",
   "metadata": {},
   "source": [
    "Problem statement: **Data Wrangling II**\n",
    "* Create an \"Academic performance\" dataset of students.\n",
    "* Scan all variables for missing values and inconsistencies.\n",
    "* Handle missing values and inconsistencies using suitable techniques.\n",
    "* Apply data transformations on at least one variable for:\n",
    "  * Scaling the variable for better understanding.\n",
    "  * Converting non-linear relations to linear.\n",
    "  * Reducing skewness and making the distribution normal."
   ]
  },
  {
   "cell_type": "markdown",
   "id": "550dc0f3-9373-4bfb-8cab-cb628f072ad6",
   "metadata": {},
   "source": [
    "# Import necessary Libraries"
   ]
  },
  {
   "cell_type": "code",
   "execution_count": 1,
   "id": "94dc79c8-e0d2-4635-ac08-3bdbc976c7c2",
   "metadata": {},
   "outputs": [],
   "source": [
    "import pandas as pd\n",
    "import numpy as np"
   ]
  },
  {
   "cell_type": "markdown",
   "id": "889c5e98-92d9-430c-8bcb-9de573b15c76",
   "metadata": {},
   "source": [
    "# Create DataFrame"
   ]
  },
  {
   "cell_type": "markdown",
   "id": "8a2dcffd-f92e-4856-84bd-8fd2ad885048",
   "metadata": {},
   "source": [
    "### **pd.DataFrame()**\n",
    "**Creates a 2-dimensional labeled data structure with columns of potentially different types, akin to a spreadsheet or SQL table.**\n",
    "\n",
    "Output: A pandas DataFrame object.\n",
    "\n",
    "Parameters:\n",
    "<table>\n",
    "  <thead>\n",
    "    <tr>\n",
    "      <th>Parameter</th>\n",
    "      <th>Description</th>\n",
    "      <th>Typical Use Case</th>\n",
    "    </tr>\n",
    "  </thead>\n",
    "  <tbody>\n",
    "    <tr>\n",
    "      <td><code>data</code></td>\n",
    "      <td>Data to be stored in the DataFrame (e.g., dict, list, ndarray).</td>\n",
    "      <td>Providing the actual data for the DataFrame.</td>\n",
    "    </tr>\n",
    "    <tr>\n",
    "      <td><code>columns</code></td>\n",
    "      <td>Column labels for the DataFrame.</td>\n",
    "      <td>Specifying custom column names.</td>\n",
    "    </tr>\n",
    "  </tbody>\n",
    "</table>\n",
    "\n",
    "When to Use: Utilize pd.DataFrame() when you need to create a DataFrame from scratch or from various data structures like lists, dictionaries, or NumPy arrays."
   ]
  },
  {
   "cell_type": "code",
   "execution_count": 2,
   "id": "6c73ca37-f5d6-42f0-9846-f62fe34357b1",
   "metadata": {},
   "outputs": [],
   "source": [
    "data = {\n",
    "    \"StudentID\": [101, 102, 103, 104, 105, 106, 107, 108, 109, 110],\n",
    "    \"Name\": [\"Alice\", \"Bob\", \"Charlie\", \"David\", \"Eva\", \"Frank\", \"Grace\", \"Hank\", \"Ivy\", \"Jake\"],\n",
    "    \"MathScore\": [85, 92, np.nan, 88, 45, 39, 102, 77, 90, 80],  # includes missing and outlier\n",
    "    \"EnglishScore\": [78, 82, 79, 85, 50, 40, 65, 80, np.nan, 75],  # includes missing value\n",
    "    \"AttendanceRate\": [0.95, 0.85, 0.80, 0.90, 0.92, 0.50, 1.05, 0.87, 0.89, 0.91]  # includes inconsistency\n",
    "}\n",
    "\n",
    "df = pd.DataFrame(data)"
   ]
  },
  {
   "cell_type": "code",
   "execution_count": 3,
   "id": "9e280d6b-756c-4874-b8ca-90502e6697ed",
   "metadata": {},
   "outputs": [
    {
     "data": {
      "text/html": [
       "<div>\n",
       "<style scoped>\n",
       "    .dataframe tbody tr th:only-of-type {\n",
       "        vertical-align: middle;\n",
       "    }\n",
       "\n",
       "    .dataframe tbody tr th {\n",
       "        vertical-align: top;\n",
       "    }\n",
       "\n",
       "    .dataframe thead th {\n",
       "        text-align: right;\n",
       "    }\n",
       "</style>\n",
       "<table border=\"1\" class=\"dataframe\">\n",
       "  <thead>\n",
       "    <tr style=\"text-align: right;\">\n",
       "      <th></th>\n",
       "      <th>StudentID</th>\n",
       "      <th>Name</th>\n",
       "      <th>MathScore</th>\n",
       "      <th>EnglishScore</th>\n",
       "      <th>AttendanceRate</th>\n",
       "    </tr>\n",
       "  </thead>\n",
       "  <tbody>\n",
       "    <tr>\n",
       "      <th>0</th>\n",
       "      <td>101</td>\n",
       "      <td>Alice</td>\n",
       "      <td>85.0</td>\n",
       "      <td>78.0</td>\n",
       "      <td>0.95</td>\n",
       "    </tr>\n",
       "    <tr>\n",
       "      <th>1</th>\n",
       "      <td>102</td>\n",
       "      <td>Bob</td>\n",
       "      <td>92.0</td>\n",
       "      <td>82.0</td>\n",
       "      <td>0.85</td>\n",
       "    </tr>\n",
       "    <tr>\n",
       "      <th>2</th>\n",
       "      <td>103</td>\n",
       "      <td>Charlie</td>\n",
       "      <td>NaN</td>\n",
       "      <td>79.0</td>\n",
       "      <td>0.80</td>\n",
       "    </tr>\n",
       "    <tr>\n",
       "      <th>3</th>\n",
       "      <td>104</td>\n",
       "      <td>David</td>\n",
       "      <td>88.0</td>\n",
       "      <td>85.0</td>\n",
       "      <td>0.90</td>\n",
       "    </tr>\n",
       "    <tr>\n",
       "      <th>4</th>\n",
       "      <td>105</td>\n",
       "      <td>Eva</td>\n",
       "      <td>45.0</td>\n",
       "      <td>50.0</td>\n",
       "      <td>0.92</td>\n",
       "    </tr>\n",
       "    <tr>\n",
       "      <th>5</th>\n",
       "      <td>106</td>\n",
       "      <td>Frank</td>\n",
       "      <td>39.0</td>\n",
       "      <td>40.0</td>\n",
       "      <td>0.50</td>\n",
       "    </tr>\n",
       "    <tr>\n",
       "      <th>6</th>\n",
       "      <td>107</td>\n",
       "      <td>Grace</td>\n",
       "      <td>102.0</td>\n",
       "      <td>65.0</td>\n",
       "      <td>1.05</td>\n",
       "    </tr>\n",
       "    <tr>\n",
       "      <th>7</th>\n",
       "      <td>108</td>\n",
       "      <td>Hank</td>\n",
       "      <td>77.0</td>\n",
       "      <td>80.0</td>\n",
       "      <td>0.87</td>\n",
       "    </tr>\n",
       "    <tr>\n",
       "      <th>8</th>\n",
       "      <td>109</td>\n",
       "      <td>Ivy</td>\n",
       "      <td>90.0</td>\n",
       "      <td>NaN</td>\n",
       "      <td>0.89</td>\n",
       "    </tr>\n",
       "    <tr>\n",
       "      <th>9</th>\n",
       "      <td>110</td>\n",
       "      <td>Jake</td>\n",
       "      <td>80.0</td>\n",
       "      <td>75.0</td>\n",
       "      <td>0.91</td>\n",
       "    </tr>\n",
       "  </tbody>\n",
       "</table>\n",
       "</div>"
      ],
      "text/plain": [
       "   StudentID     Name  MathScore  EnglishScore  AttendanceRate\n",
       "0        101    Alice       85.0          78.0            0.95\n",
       "1        102      Bob       92.0          82.0            0.85\n",
       "2        103  Charlie        NaN          79.0            0.80\n",
       "3        104    David       88.0          85.0            0.90\n",
       "4        105      Eva       45.0          50.0            0.92\n",
       "5        106    Frank       39.0          40.0            0.50\n",
       "6        107    Grace      102.0          65.0            1.05\n",
       "7        108     Hank       77.0          80.0            0.87\n",
       "8        109      Ivy       90.0           NaN            0.89\n",
       "9        110     Jake       80.0          75.0            0.91"
      ]
     },
     "execution_count": 3,
     "metadata": {},
     "output_type": "execute_result"
    }
   ],
   "source": [
    "df"
   ]
  },
  {
   "cell_type": "markdown",
   "id": "116e5dd7-b73b-4f92-97ef-1b5509785f86",
   "metadata": {},
   "source": [
    "# Find Missing Value and Fill Missing Data"
   ]
  },
  {
   "cell_type": "markdown",
   "id": "5cf166db-3c58-468f-906c-6f5aade455db",
   "metadata": {},
   "source": [
    "### **fillna()**\n",
    "Fills missing (NaN) values in a DataFrame with specified values or methods.\n",
    "\n",
    "Output: A DataFrame with missing values filled according to the specified parameters.\n",
    "\n",
    "</strong> By applying <code>fillna()</code> to individual columns like <code>MathScore</code> and <code>EnglishScore</code>, each column’s missing values are filled independently using its own mean.\n",
    "\n",
    "### **clip()**\n",
    "Limits the values in a DataFrame to a specified range, setting values below a lower bound to the lower bound and values above an upper bound to the upper bound.\n",
    "\n",
    "Output: A DataFrame with values clipped to the specified range."
   ]
  },
  {
   "cell_type": "code",
   "execution_count": 4,
   "id": "bd5009d3-65ce-4ccc-8e71-571ec63bd0b7",
   "metadata": {},
   "outputs": [
    {
     "data": {
      "text/plain": [
       "StudentID         0\n",
       "Name              0\n",
       "MathScore         1\n",
       "EnglishScore      1\n",
       "AttendanceRate    0\n",
       "dtype: int64"
      ]
     },
     "execution_count": 4,
     "metadata": {},
     "output_type": "execute_result"
    }
   ],
   "source": [
    "df.isnull().sum()"
   ]
  },
  {
   "cell_type": "code",
   "execution_count": 5,
   "id": "a082619e-adef-418b-a170-5f097db473e8",
   "metadata": {},
   "outputs": [
    {
     "data": {
      "text/plain": [
       "77.55555555555556"
      ]
     },
     "execution_count": 5,
     "metadata": {},
     "output_type": "execute_result"
    }
   ],
   "source": [
    "df['MathScore'].mean()"
   ]
  },
  {
   "cell_type": "code",
   "execution_count": 6,
   "id": "d9af6914-a726-4385-a984-e1c047ee11ff",
   "metadata": {},
   "outputs": [],
   "source": [
    "# Filling missing MathScore and EnglishScore with mean (simple imputation)\n",
    "df[\"MathScore\"] = df[\"MathScore\"].fillna(df[\"MathScore\"].mean())\n",
    "df[\"EnglishScore\"] = df[\"EnglishScore\"].fillna(df[\"EnglishScore\"].mean())"
   ]
  },
  {
   "cell_type": "code",
   "execution_count": 7,
   "id": "9b026bcc-7f18-4a26-9632-1912061b4caf",
   "metadata": {},
   "outputs": [],
   "source": [
    "# Fixing inconsistency in AttendanceRate (clip values between 0 and 1)\n",
    "df[\"AttendanceRate\"] = df[\"AttendanceRate\"].clip(0, 1)"
   ]
  },
  {
   "cell_type": "markdown",
   "id": "6348e5fa-7c62-4bfd-9787-7387961b1758",
   "metadata": {},
   "source": [
    "# Outlier Detection"
   ]
  },
  {
   "cell_type": "markdown",
   "id": "6b216a3c-eaf9-4dee-a66b-5a1676adbcdb",
   "metadata": {},
   "source": [
    "<ul>\n",
    "  <li><strong>Purpose:</strong> Detect outliers in <code>MathScore</code> using the IQR method.</li>\n",
    "  <li><strong>Method:</strong> Compute Q1 and Q3 using <code>quantile()</code>, then calculate <code>IQR = Q3 - Q1</code>.</li>\n",
    "  <li><strong>Outlier Bounds:</strong> Values below <code>Q1 - 1.5×IQR</code> or above <code>Q3 + 1.5×IQR</code> are outliers.</li>\n",
    "  <li><strong>Detection:</strong> Loop through <code>MathScore</code> and collect values outside the bounds.</li>\n",
    "</ul>\n"
   ]
  },
  {
   "cell_type": "code",
   "execution_count": 8,
   "id": "add720fe-9e1e-4554-afea-6938ea241a9e",
   "metadata": {},
   "outputs": [],
   "source": [
    "# Use IQR method to detect outliers in MathScore\n",
    "Q1 = df[\"MathScore\"].quantile(0.25)\n",
    "Q3 = df[\"MathScore\"].quantile(0.75)\n",
    "IQR = Q3 - Q1"
   ]
  },
  {
   "cell_type": "code",
   "execution_count": 9,
   "id": "af4092dc-664c-4681-bd88-d831a0575d76",
   "metadata": {},
   "outputs": [],
   "source": [
    "# Define bounds\n",
    "lower_bound = Q1 - 1.5 * IQR\n",
    "upper_bound = Q3 + 1.5 * IQR"
   ]
  },
  {
   "cell_type": "code",
   "execution_count": 10,
   "id": "fe41874f-486a-436e-b5e7-e8bfb9c817fa",
   "metadata": {},
   "outputs": [
    {
     "name": "stdout",
     "output_type": "stream",
     "text": [
      "Outliers in MathScore are: [45.0, 39.0]\n"
     ]
    }
   ],
   "source": [
    "outliers = []\n",
    "for x in df[\"MathScore\"]:\n",
    "    if (x < lower_bound or x > upper_bound):\n",
    "        outliers.append(x)\n",
    "\n",
    "print(\"Outliers in MathScore are:\", outliers)"
   ]
  },
  {
   "cell_type": "code",
   "execution_count": 11,
   "id": "58e96fe5-0ea7-4720-aa92-ced878e89ed9",
   "metadata": {},
   "outputs": [],
   "source": [
    "import seaborn as sns"
   ]
  },
  {
   "cell_type": "code",
   "execution_count": 12,
   "id": "32e07ce7-395f-4e8e-901b-d8dbe1f0e243",
   "metadata": {},
   "outputs": [
    {
     "data": {
      "text/plain": [
       "<Axes: xlabel='MathScore'>"
      ]
     },
     "execution_count": 12,
     "metadata": {},
     "output_type": "execute_result"
    },
    {
     "data": {
      "image/png": "[encoded data removed]",
      "text/plain": [
       "<Figure size 640x480 with 1 Axes>"
      ]
     },
     "metadata": {},
     "output_type": "display_data"
    }
   ],
   "source": [
    "sns.boxplot(df['MathScore'], orient='h')"
   ]
  },
  {
   "cell_type": "markdown",
   "id": "8620c1a6-2e88-459b-bb5e-3b8b2126ee2e",
   "metadata": {},
   "source": [
    "# Outlier Removal"
   ]
  },
  {
   "cell_type": "markdown",
   "id": "15103d3b-4497-42f6-b81b-f1d456f895bd",
   "metadata": {},
   "source": [
    "<ul>\n",
    "  <li>We are capping (or winsorizing) outliers in <code>MathScore</code> to reduce their effect by replacing extreme values with threshold limits.</li>\n",
    "  <li><strong>How We Are Doing:</strong> Using an <code>if-else</code> loop, values above <code>upper_bound</code> are set to <code>upper_bound</code>, and values below <code>lower_bound</code> are set to <code>lower_bound</code>.</li>\n",
    "  <li> The original <code>MathScore</code> column is updated with the capped values.</li>\n",
    "</ul>\n"
   ]
  },
  {
   "cell_type": "code",
   "execution_count": 13,
   "id": "c920f074-1e2f-4082-8530-78f8a8e64b12",
   "metadata": {},
   "outputs": [],
   "source": [
    "#Cap the outliers using if-else in loop\n",
    "capped_scores = []\n",
    "\n",
    "for score in df[\"MathScore\"]:\n",
    "    if score > upper_bound:\n",
    "        capped_scores.append(upper_bound)\n",
    "    elif score < lower_bound:\n",
    "        capped_scores.append(lower_bound)\n",
    "    else:\n",
    "        capped_scores.append(score)"
   ]
  },
  {
   "cell_type": "code",
   "execution_count": 14,
   "id": "e5fdcbbb-9e29-4cac-9182-da0ae3f1f004",
   "metadata": {},
   "outputs": [],
   "source": [
    "# Step 3: Replace the column with capped values\n",
    "df[\"MathScore\"] = capped_scores"
   ]
  },
  {
   "cell_type": "code",
   "execution_count": 15,
   "id": "b91edb76-8be9-4f6c-aa54-6d231fbbbf88",
   "metadata": {},
   "outputs": [
    {
     "data": {
      "text/plain": [
       "<Axes: xlabel='MathScore'>"
      ]
     },
     "execution_count": 15,
     "metadata": {},
     "output_type": "execute_result"
    },
    {
     "data": {
      "image/png": "[encoded data removed]",
      "text/plain": [
       "<Figure size 640x480 with 1 Axes>"
      ]
     },
     "metadata": {},
     "output_type": "display_data"
    }
   ],
   "source": [
    "sns.boxplot(df['MathScore'], orient='h')"
   ]
  },
  {
   "cell_type": "markdown",
   "id": "07184705-d159-4658-a701-703c5d383c32",
   "metadata": {},
   "source": [
    "# Data Transformation"
   ]
  },
  {
   "cell_type": "markdown",
   "id": "8137fc91-d10e-4a09-99ac-b2c6ccdbc65e",
   "metadata": {},
   "source": [
    "PowerTransformer is part of scikit-learn’s sklearn.preprocessing module and implements two parametric, monotonic transformations—**Box-Cox (requires strictly positive data)** and **Yeo-Johnson (handles zero & negative values)**—to map features toward a normal distribution.\n",
    "\n",
    "**Mathematical Formulas:**  \n",
    "\n",
    "1) **Box-Cox Transformation**(for positive data):\n",
    "<p>\n",
    "  For a feature value \\( x \\) and parameter \\( \\lambda \\):\n",
    "  <br>\n",
    "  \\( x_{\\text{trans}} = \\begin{cases}\n",
    "    \\frac{x^\\lambda - 1}{\\lambda}, & \\text{if } \\lambda \\ne 0 \\\\\n",
    "    \\log(x), & \\text{if } \\lambda = 0\n",
    "  \\end{cases} \\)\n",
    "</p>\n",
    "\n",
    "\n",
    "2) **Yeo-Johnson Transformation** (for positive and negative data):\n",
    "<p>\n",
    "  For a feature value \\( x \\) and parameter \\( \\lambda \\):\n",
    "  <br>\n",
    "  \\( x_{\\text{trans}} = \\begin{cases}\n",
    "    \\frac{(x + 1)^\\lambda - 1}{\\lambda}, & \\text{if } x \\ge 0, \\lambda \\ne 0 \\\\\n",
    "    \\log(x + 1), & \\text{if } x \\ge 0, \\lambda = 0 \\\\\n",
    "    -\\frac{(-x + 1)^{2 - \\lambda} - 1}{2 - \\lambda}, & \\text{if } x < 0, \\lambda \\ne 2 \\\\\n",
    "    -\\log(-x + 1), & \\text{if } x < 0, \\lambda = 2\n",
    "  \\end{cases} \\)\n",
    "</p>\n",
    "\n",
    "        \n",
    "**When to Use:**\n",
    "- Data Normalization: When features are not normally distributed and normalization is required.  \n",
    "- Variance Stabilization: To stabilize variance across features.  "
   ]
  },
  {
   "cell_type": "code",
   "execution_count": 16,
   "id": "7d60932c-a3a9-45aa-90ab-67e7ca7ea590",
   "metadata": {},
   "outputs": [],
   "source": [
    "from sklearn.preprocessing import PowerTransformer"
   ]
  },
  {
   "cell_type": "code",
   "execution_count": 17,
   "id": "6bbc74a1-4f8e-4665-9cf9-fa393f4af94e",
   "metadata": {},
   "outputs": [],
   "source": [
    "pt = PowerTransformer()"
   ]
  },
  {
   "cell_type": "code",
   "execution_count": 18,
   "id": "fed49041-2f38-41a4-8f78-584bec3c1308",
   "metadata": {},
   "outputs": [],
   "source": [
    "df['Transformed_AttendanceRate'] = pt.fit_transform(df[['AttendanceRate']])"
   ]
  },
  {
   "cell_type": "code",
   "execution_count": 19,
   "id": "7c196c2f-4e63-4a38-9b8c-3ae22436dbe2",
   "metadata": {},
   "outputs": [
    {
     "name": "stdout",
     "output_type": "stream",
     "text": [
      "      Name  AttendanceRate  Transformed_AttendanceRate\n",
      "0    Alice            0.95                    0.908993\n",
      "1      Bob            0.85                   -0.457886\n",
      "2  Charlie            0.80                   -0.913387\n",
      "3    David            0.90                    0.137142\n",
      "4      Eva            0.92                    0.422303\n",
      "5    Frank            0.50                   -2.043523\n",
      "6    Grace            1.00                    1.903561\n",
      "7     Hank            0.87                   -0.238532\n",
      "8      Ivy            0.89                    0.005298\n",
      "9     Jake            0.91                    0.276031\n"
     ]
    }
   ],
   "source": [
    "print(df[['Name', 'AttendanceRate', 'Transformed_AttendanceRate']])"
   ]
  },
  {
   "cell_type": "code",
   "execution_count": null,
   "id": "ff116869-fdc1-4a71-9c29-1d43d7fcebea",
   "metadata": {},
   "outputs": [],
   "source": []
  }
 ],
 "metadata": {
  "kernelspec": {
   "display_name": "Python 3 (ipykernel)",
   "language": "python",
   "name": "python3"
  },
  "language_info": {
   "codemirror_mode": {
    "name": "ipython",
    "version": 3
   },
   "file_extension": ".py",
   "mimetype": "text/x-python",
   "name": "python",
   "nbconvert_exporter": "python",
   "pygments_lexer": "ipython3",
   "version": "3.11.4"
  }
 },
 "nbformat": 4,
 "nbformat_minor": 5
}
