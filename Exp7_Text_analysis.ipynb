{
 "cells": [
  {
   "cell_type": "markdown",
   "id": "25f8c81b-7b5b-483d-8b10-152a85377ebf",
   "metadata": {},
   "source": [
    "# Install nltk Library (if not already Installed)"
   ]
  },
  {
   "cell_type": "code",
   "execution_count": 1,
   "id": "326297b6-5cba-485c-8594-fefb243ca7a1",
   "metadata": {},
   "outputs": [
    {
     "name": "stdout",
     "output_type": "stream",
     "text": [
      "Requirement already satisfied: nltk in c:\\users\\admin\\appdata\\local\\programs\\python\\python311\\lib\\site-packages (3.9.1)\n",
      "Requirement already satisfied: click in c:\\users\\admin\\appdata\\local\\programs\\python\\python311\\lib\\site-packages (from nltk) (8.1.7)\n",
      "Requirement already satisfied: joblib in c:\\users\\admin\\appdata\\local\\programs\\python\\python311\\lib\\site-packages (from nltk) (1.4.0)\n",
      "Requirement already satisfied: regex>=2021.8.3 in c:\\users\\admin\\appdata\\local\\programs\\python\\python311\\lib\\site-packages (from nltk) (2024.11.6)\n",
      "Requirement already satisfied: tqdm in c:\\users\\admin\\appdata\\local\\programs\\python\\python311\\lib\\site-packages (from nltk) (4.67.1)\n",
      "Requirement already satisfied: colorama in c:\\users\\admin\\appdata\\local\\programs\\python\\python311\\lib\\site-packages (from click->nltk) (0.4.6)\n"
     ]
    }
   ],
   "source": [
    "!pip install nltk"
   ]
  },
  {
   "cell_type": "markdown",
   "id": "a6f346fd-2592-40f0-8715-239f18763490",
   "metadata": {},
   "source": [
    "# Given Or Extracted Text from Document"
   ]
  },
  {
   "cell_type": "code",
   "execution_count": 2,
   "id": "2479cfb4-75dc-4d5d-8a42-3a5f429e02f5",
   "metadata": {},
   "outputs": [],
   "source": [
    "text = \"\"\"Indian culture is one of the oldest and most diverse in the world, evolving over thousands of years through a synthesis of various traditions, religions, philosophies, and art forms. From the ancient Vedas to the epics of Mahabharata and Ramayana, Indian heritage has profoundly influenced literature, music, dance, and architecture. Temples like those in Khajuraho and Madurai reflect intricate craftsmanship, while classical dance forms such as Bharatanatyam and Kathak narrate mythological stories through expressive gestures. India’s spiritual philosophy, particularly its teachings on dharma, karma, and moksha, has inspired not only its citizens but also seekers across the globe. Festivals like Diwali, Holi, and Eid celebrate unity in diversity, blending religious devotion with vibrant social gatherings. Handicrafts, regional cuisines, traditional attire like sarees and turbans, and languages such as Sanskrit, Hindi, and Tamil further showcase the richness of India’s intangible cultural heritage. In modern times, while urbanization and globalization pose challenges to preserving these traditions, initiatives in education, tourism, and digital archiving are helping ensure that India’s cultural legacy continues to thrive for future generations.\"\"\""
   ]
  },
  {
   "cell_type": "markdown",
   "id": "512ae373-ed77-400b-9716-b0944f65e12a",
   "metadata": {},
   "source": [
    "# 1.Tokenization"
   ]
  },
  {
   "cell_type": "code",
   "execution_count": 3,
   "id": "2502935e-cdd1-423f-86e7-87a096a713d7",
   "metadata": {},
   "outputs": [
    {
     "name": "stderr",
     "output_type": "stream",
     "text": [
      "[nltk_data] Downloading package punkt to\n",
      "[nltk_data]     C:\\Users\\Admin\\AppData\\Roaming\\nltk_data...\n",
      "[nltk_data]   Package punkt is already up-to-date!\n"
     ]
    },
    {
     "data": {
      "text/plain": [
       "True"
      ]
     },
     "execution_count": 3,
     "metadata": {},
     "output_type": "execute_result"
    }
   ],
   "source": [
    "import nltk\n",
    "from nltk.tokenize import word_tokenize, sent_tokenize\n",
    "\n",
    "nltk.download('punkt')"
   ]
  },
  {
   "cell_type": "markdown",
   "id": "ef35d395-5d95-4ee4-a98b-43c0fd0aa17d",
   "metadata": {},
   "source": [
    "## sentence Tokenization"
   ]
  },
  {
   "cell_type": "code",
   "execution_count": 4,
   "id": "035d58c8-c17c-46b6-939b-3348b448ac6c",
   "metadata": {},
   "outputs": [
    {
     "name": "stdout",
     "output_type": "stream",
     "text": [
      "['Indian culture is one of the oldest and most diverse in the world, evolving over thousands of years through a synthesis of various traditions, religions, philosophies, and art forms.', 'From the ancient Vedas to the epics of Mahabharata and Ramayana, Indian heritage has profoundly influenced literature, music, dance, and architecture.', 'Temples like those in Khajuraho and Madurai reflect intricate craftsmanship, while classical dance forms such as Bharatanatyam and Kathak narrate mythological stories through expressive gestures.', 'India’s spiritual philosophy, particularly its teachings on dharma, karma, and moksha, has inspired not only its citizens but also seekers across the globe.', 'Festivals like Diwali, Holi, and Eid celebrate unity in diversity, blending religious devotion with vibrant social gatherings.', 'Handicrafts, regional cuisines, traditional attire like sarees and turbans, and languages such as Sanskrit, Hindi, and Tamil further showcase the richness of India’s intangible cultural heritage.', 'In modern times, while urbanization and globalization pose challenges to preserving these traditions, initiatives in education, tourism, and digital archiving are helping ensure that India’s cultural legacy continues to thrive for future generations.']\n"
     ]
    }
   ],
   "source": [
    "sentences = sent_tokenize(text)\n",
    "print(sentences)"
   ]
  },
  {
   "cell_type": "markdown",
   "id": "6d85b72a-2d71-4531-8b42-f4909e5132bd",
   "metadata": {},
   "source": [
    "## Removing Punctuations"
   ]
  },
  {
   "cell_type": "code",
   "execution_count": 5,
   "id": "7d8b122d-9445-4376-9dd7-ee42022c7ce1",
   "metadata": {},
   "outputs": [],
   "source": [
    "import string\n",
    "\n",
    "exclude = string.punctuation"
   ]
  },
  {
   "cell_type": "code",
   "execution_count": 6,
   "id": "5b47a887-91b5-4a72-a30b-6f509c554ba1",
   "metadata": {},
   "outputs": [],
   "source": [
    "def remove_punct(text):\n",
    "    for char in exclude:\n",
    "        text = text.replace(char, \" \")\n",
    "    return text"
   ]
  },
  {
   "cell_type": "code",
   "execution_count": 7,
   "id": "79427b94-1e93-4c4f-9db7-2cd2b65c9247",
   "metadata": {},
   "outputs": [
    {
     "name": "stdout",
     "output_type": "stream",
     "text": [
      "Indian culture is one of the oldest and most diverse in the world, evolving over thousands of years through a synthesis of various traditions, religions, philosophies, and art forms. From the ancient Vedas to the epics of Mahabharata and Ramayana, Indian heritage has profoundly influenced literature, music, dance, and architecture. Temples like those in Khajuraho and Madurai reflect intricate craftsmanship, while classical dance forms such as Bharatanatyam and Kathak narrate mythological stories through expressive gestures. India’s spiritual philosophy, particularly its teachings on dharma, karma, and moksha, has inspired not only its citizens but also seekers across the globe. Festivals like Diwali, Holi, and Eid celebrate unity in diversity, blending religious devotion with vibrant social gatherings. Handicrafts, regional cuisines, traditional attire like sarees and turbans, and languages such as Sanskrit, Hindi, and Tamil further showcase the richness of India’s intangible cultural heritage. In modern times, while urbanization and globalization pose challenges to preserving these traditions, initiatives in education, tourism, and digital archiving are helping ensure that India’s cultural legacy continues to thrive for future generations.\n"
     ]
    }
   ],
   "source": [
    "text_modified = remove_punct(text)\n",
    "print(text)"
   ]
  },
  {
   "cell_type": "markdown",
   "id": "29a4e4db-d5cb-40c3-932b-64295a2fa692",
   "metadata": {},
   "source": [
    "## word Tokenization"
   ]
  },
  {
   "cell_type": "code",
   "execution_count": 8,
   "id": "f305f34f-c39d-42b1-a71d-97b742d09d05",
   "metadata": {},
   "outputs": [
    {
     "name": "stdout",
     "output_type": "stream",
     "text": [
      "['Indian', 'culture', 'is', 'one', 'of', 'the', 'oldest', 'and', 'most', 'diverse', 'in', 'the', 'world', 'evolving', 'over', 'thousands', 'of', 'years', 'through', 'a', 'synthesis', 'of', 'various', 'traditions', 'religions', 'philosophies', 'and', 'art', 'forms', 'From', 'the', 'ancient', 'Vedas', 'to', 'the', 'epics', 'of', 'Mahabharata', 'and', 'Ramayana', 'Indian', 'heritage', 'has', 'profoundly', 'influenced', 'literature', 'music', 'dance', 'and', 'architecture', 'Temples', 'like', 'those', 'in', 'Khajuraho', 'and', 'Madurai', 'reflect', 'intricate', 'craftsmanship', 'while', 'classical', 'dance', 'forms', 'such', 'as', 'Bharatanatyam', 'and', 'Kathak', 'narrate', 'mythological', 'stories', 'through', 'expressive', 'gestures', 'India', '’', 's', 'spiritual', 'philosophy', 'particularly', 'its', 'teachings', 'on', 'dharma', 'karma', 'and', 'moksha', 'has', 'inspired', 'not', 'only', 'its', 'citizens', 'but', 'also', 'seekers', 'across', 'the', 'globe', 'Festivals', 'like', 'Diwali', 'Holi', 'and', 'Eid', 'celebrate', 'unity', 'in', 'diversity', 'blending', 'religious', 'devotion', 'with', 'vibrant', 'social', 'gatherings', 'Handicrafts', 'regional', 'cuisines', 'traditional', 'attire', 'like', 'sarees', 'and', 'turbans', 'and', 'languages', 'such', 'as', 'Sanskrit', 'Hindi', 'and', 'Tamil', 'further', 'showcase', 'the', 'richness', 'of', 'India', '’', 's', 'intangible', 'cultural', 'heritage', 'In', 'modern', 'times', 'while', 'urbanization', 'and', 'globalization', 'pose', 'challenges', 'to', 'preserving', 'these', 'traditions', 'initiatives', 'in', 'education', 'tourism', 'and', 'digital', 'archiving', 'are', 'helping', 'ensure', 'that', 'India', '’', 's', 'cultural', 'legacy', 'continues', 'to', 'thrive', 'for', 'future', 'generations']\n"
     ]
    }
   ],
   "source": [
    "words = word_tokenize(text_modified)\n",
    "print(words)"
   ]
  },
  {
   "cell_type": "markdown",
   "id": "9d83e034-7e6d-4072-ba53-3b4b3b6c98df",
   "metadata": {},
   "source": [
    "# 2.StopWord Removal"
   ]
  },
  {
   "cell_type": "code",
   "execution_count": 9,
   "id": "370a1519-7a57-4a18-a6a6-6c71940b448c",
   "metadata": {},
   "outputs": [],
   "source": [
    "from nltk.corpus import stopwords"
   ]
  },
  {
   "cell_type": "code",
   "execution_count": 10,
   "id": "1bac4e8a-ecd0-4456-ae5b-72c3a690691a",
   "metadata": {},
   "outputs": [
    {
     "name": "stderr",
     "output_type": "stream",
     "text": [
      "[nltk_data] Downloading package stopwords to\n",
      "[nltk_data]     C:\\Users\\Admin\\AppData\\Roaming\\nltk_data...\n",
      "[nltk_data]   Package stopwords is already up-to-date!\n"
     ]
    },
    {
     "data": {
      "text/plain": [
       "True"
      ]
     },
     "execution_count": 10,
     "metadata": {},
     "output_type": "execute_result"
    }
   ],
   "source": [
    "nltk.download('stopwords')"
   ]
  },
  {
   "cell_type": "code",
   "execution_count": 11,
   "id": "37503fe7-a099-40bb-b204-222351487816",
   "metadata": {},
   "outputs": [],
   "source": [
    "stop_words = stopwords.words('english')"
   ]
  },
  {
   "cell_type": "code",
   "execution_count": 12,
   "id": "5c96e64d-76cb-4251-9872-bc1c3150257d",
   "metadata": {},
   "outputs": [],
   "source": [
    "def remove_stopwords(text):\n",
    "    new_text = []\n",
    "    for w in text_modified.split():\n",
    "        if w.lower() not in stop_words:\n",
    "            new_text.append(w)\n",
    "    return \" \".join(new_text)"
   ]
  },
  {
   "cell_type": "code",
   "execution_count": 13,
   "id": "bc14254a-7ca8-40cd-b22f-60167e0b8c4a",
   "metadata": {},
   "outputs": [
    {
     "name": "stdout",
     "output_type": "stream",
     "text": [
      "Indian culture one oldest diverse world evolving thousands years synthesis various traditions religions philosophies art forms ancient Vedas epics Mahabharata Ramayana Indian heritage profoundly influenced literature music dance architecture Temples like Khajuraho Madurai reflect intricate craftsmanship classical dance forms Bharatanatyam Kathak narrate mythological stories expressive gestures India’s spiritual philosophy particularly teachings dharma karma moksha inspired citizens also seekers across globe Festivals like Diwali Holi Eid celebrate unity diversity blending religious devotion vibrant social gatherings Handicrafts regional cuisines traditional attire like sarees turbans languages Sanskrit Hindi Tamil showcase richness India’s intangible cultural heritage modern times urbanization globalization pose challenges preserving traditions initiatives education tourism digital archiving helping ensure India’s cultural legacy continues thrive future generations\n"
     ]
    }
   ],
   "source": [
    "text_modified_1 = remove_stopwords(text)\n",
    "print(text_modified_1)"
   ]
  },
  {
   "cell_type": "markdown",
   "id": "94fc3391-10ea-45b6-bfe3-30e4392f8554",
   "metadata": {},
   "source": [
    "# 3.Stemming"
   ]
  },
  {
   "cell_type": "code",
   "execution_count": 14,
   "id": "dfaa0882-8570-4615-8ead-d5eb90d936f1",
   "metadata": {},
   "outputs": [],
   "source": [
    "from nltk.stem import PorterStemmer"
   ]
  },
  {
   "cell_type": "code",
   "execution_count": 15,
   "id": "93da7511-fdfe-4fd1-92e4-1f5d63e2790a",
   "metadata": {},
   "outputs": [],
   "source": [
    "ps = PorterStemmer()"
   ]
  },
  {
   "cell_type": "code",
   "execution_count": 16,
   "id": "4625066b-53c8-43ac-986c-e01fa48a0dd4",
   "metadata": {},
   "outputs": [],
   "source": [
    "def stemming(text):\n",
    "    new_text = []\n",
    "    for w in text.split():\n",
    "        new_text.append(ps.stem(w))\n",
    "    return \" \".join(new_text)"
   ]
  },
  {
   "cell_type": "code",
   "execution_count": 17,
   "id": "5d09ec91-32e2-43b8-ac95-809b2836b02b",
   "metadata": {},
   "outputs": [
    {
     "name": "stdout",
     "output_type": "stream",
     "text": [
      "indian cultur one oldest divers world evolv thousand year synthesi variou tradit religion philosophi art form ancient veda epic mahabharata ramayana indian heritag profoundli influenc literatur music danc architectur templ like khajuraho madurai reflect intric craftsmanship classic danc form bharatanatyam kathak narrat mytholog stori express gestur india’ spiritu philosophi particularli teach dharma karma moksha inspir citizen also seeker across globe festiv like diwali holi eid celebr uniti divers blend religi devot vibrant social gather handicraft region cuisin tradit attir like sare turban languag sanskrit hindi tamil showcas rich india’ intang cultur heritag modern time urban global pose challeng preserv tradit initi educ tourism digit archiv help ensur india’ cultur legaci continu thrive futur gener\n"
     ]
    }
   ],
   "source": [
    "print(stemming(text_modified_1))"
   ]
  },
  {
   "cell_type": "markdown",
   "id": "53e959a1-e1c2-4385-82d0-8d59020b5aad",
   "metadata": {},
   "source": [
    "# 4.Lemmatization"
   ]
  },
  {
   "cell_type": "code",
   "execution_count": 18,
   "id": "a1779ead-c631-4861-b72d-c5483aaacc3f",
   "metadata": {},
   "outputs": [],
   "source": [
    "from nltk.stem import WordNetLemmatizer"
   ]
  },
  {
   "cell_type": "code",
   "execution_count": 19,
   "id": "9241995c-1288-4460-9cc5-7e39ad4679ae",
   "metadata": {},
   "outputs": [
    {
     "name": "stderr",
     "output_type": "stream",
     "text": [
      "[nltk_data] Downloading package wordnet to\n",
      "[nltk_data]     C:\\Users\\Admin\\AppData\\Roaming\\nltk_data...\n",
      "[nltk_data]   Package wordnet is already up-to-date!\n"
     ]
    },
    {
     "data": {
      "text/plain": [
       "True"
      ]
     },
     "execution_count": 19,
     "metadata": {},
     "output_type": "execute_result"
    }
   ],
   "source": [
    "nltk.download('wordnet')"
   ]
  },
  {
   "cell_type": "code",
   "execution_count": 20,
   "id": "e00911d2-4bc8-4a7c-b96c-c187783c5488",
   "metadata": {},
   "outputs": [],
   "source": [
    "wnl = WordNetLemmatizer()"
   ]
  },
  {
   "cell_type": "code",
   "execution_count": 21,
   "id": "62e002ab-9b34-474d-b66b-d82a8689ec23",
   "metadata": {},
   "outputs": [],
   "source": [
    "lemmatized_Verbs = []\n",
    "lemmatized_nouns = []"
   ]
  },
  {
   "cell_type": "code",
   "execution_count": 22,
   "id": "dc2f5b29-e76a-452b-ba16-69fd0294d110",
   "metadata": {},
   "outputs": [],
   "source": [
    "for w in text.split():\n",
    "    lemmatized_Verbs.append(wnl.lemmatize(w, pos='v'))\n",
    "\n",
    "for w in text.split():\n",
    "    lemmatized_nouns.append(wnl.lemmatize(w, pos='n'))"
   ]
  },
  {
   "cell_type": "code",
   "execution_count": 23,
   "id": "2762a570-102e-4fa5-afdf-660dea5a6cc7",
   "metadata": {},
   "outputs": [
    {
     "name": "stdout",
     "output_type": "stream",
     "text": [
      "\n",
      "-------------------Lemmatize_verbs----------------------------\n",
      "['Indian', 'culture', 'be', 'one', 'of', 'the', 'oldest', 'and', 'most', 'diverse', 'in', 'the', 'world,', 'evolve', 'over', 'thousands', 'of', 'years', 'through', 'a', 'synthesis', 'of', 'various', 'traditions,', 'religions,', 'philosophies,', 'and', 'art', 'forms.', 'From', 'the', 'ancient', 'Vedas', 'to', 'the', 'epics', 'of', 'Mahabharata', 'and', 'Ramayana,', 'Indian', 'heritage', 'have', 'profoundly', 'influence', 'literature,', 'music,', 'dance,', 'and', 'architecture.', 'Temples', 'like', 'those', 'in', 'Khajuraho', 'and', 'Madurai', 'reflect', 'intricate', 'craftsmanship,', 'while', 'classical', 'dance', 'form', 'such', 'as', 'Bharatanatyam', 'and', 'Kathak', 'narrate', 'mythological', 'stories', 'through', 'expressive', 'gestures.', 'India’s', 'spiritual', 'philosophy,', 'particularly', 'its', 'teachings', 'on', 'dharma,', 'karma,', 'and', 'moksha,', 'have', 'inspire', 'not', 'only', 'its', 'citizens', 'but', 'also', 'seekers', 'across', 'the', 'globe.', 'Festivals', 'like', 'Diwali,', 'Holi,', 'and', 'Eid', 'celebrate', 'unity', 'in', 'diversity,', 'blend', 'religious', 'devotion', 'with', 'vibrant', 'social', 'gatherings.', 'Handicrafts,', 'regional', 'cuisines,', 'traditional', 'attire', 'like', 'sarees', 'and', 'turbans,', 'and', 'languages', 'such', 'as', 'Sanskrit,', 'Hindi,', 'and', 'Tamil', 'further', 'showcase', 'the', 'richness', 'of', 'India’s', 'intangible', 'cultural', 'heritage.', 'In', 'modern', 'times,', 'while', 'urbanization', 'and', 'globalization', 'pose', 'challenge', 'to', 'preserve', 'these', 'traditions,', 'initiatives', 'in', 'education,', 'tourism,', 'and', 'digital', 'archive', 'be', 'help', 'ensure', 'that', 'India’s', 'cultural', 'legacy', 'continue', 'to', 'thrive', 'for', 'future', 'generations.']\n",
      "\n",
      "-------------------Lemmatized Nouns----------------------\n",
      "['Indian', 'culture', 'is', 'one', 'of', 'the', 'oldest', 'and', 'most', 'diverse', 'in', 'the', 'world,', 'evolving', 'over', 'thousand', 'of', 'year', 'through', 'a', 'synthesis', 'of', 'various', 'traditions,', 'religions,', 'philosophies,', 'and', 'art', 'forms.', 'From', 'the', 'ancient', 'Vedas', 'to', 'the', 'epic', 'of', 'Mahabharata', 'and', 'Ramayana,', 'Indian', 'heritage', 'ha', 'profoundly', 'influenced', 'literature,', 'music,', 'dance,', 'and', 'architecture.', 'Temples', 'like', 'those', 'in', 'Khajuraho', 'and', 'Madurai', 'reflect', 'intricate', 'craftsmanship,', 'while', 'classical', 'dance', 'form', 'such', 'a', 'Bharatanatyam', 'and', 'Kathak', 'narrate', 'mythological', 'story', 'through', 'expressive', 'gestures.', 'India’s', 'spiritual', 'philosophy,', 'particularly', 'it', 'teaching', 'on', 'dharma,', 'karma,', 'and', 'moksha,', 'ha', 'inspired', 'not', 'only', 'it', 'citizen', 'but', 'also', 'seeker', 'across', 'the', 'globe.', 'Festivals', 'like', 'Diwali,', 'Holi,', 'and', 'Eid', 'celebrate', 'unity', 'in', 'diversity,', 'blending', 'religious', 'devotion', 'with', 'vibrant', 'social', 'gatherings.', 'Handicrafts,', 'regional', 'cuisines,', 'traditional', 'attire', 'like', 'saree', 'and', 'turbans,', 'and', 'language', 'such', 'a', 'Sanskrit,', 'Hindi,', 'and', 'Tamil', 'further', 'showcase', 'the', 'richness', 'of', 'India’s', 'intangible', 'cultural', 'heritage.', 'In', 'modern', 'times,', 'while', 'urbanization', 'and', 'globalization', 'pose', 'challenge', 'to', 'preserving', 'these', 'traditions,', 'initiative', 'in', 'education,', 'tourism,', 'and', 'digital', 'archiving', 'are', 'helping', 'ensure', 'that', 'India’s', 'cultural', 'legacy', 'continues', 'to', 'thrive', 'for', 'future', 'generations.']\n"
     ]
    }
   ],
   "source": [
    "print(\"\\n-------------------Lemmatize_verbs----------------------------\")\n",
    "print(lemmatized_Verbs)\n",
    "print(\"\\n-------------------Lemmatized Nouns----------------------\")\n",
    "print(lemmatized_nouns)"
   ]
  },
  {
   "cell_type": "markdown",
   "id": "99f27e90-15be-47c0-9f50-e824c378f9ed",
   "metadata": {},
   "source": [
    "# 5.TF-IDF"
   ]
  },
  {
   "cell_type": "code",
   "execution_count": 24,
   "id": "744e8717-40c6-4b14-913c-99ee6b97b5ce",
   "metadata": {},
   "outputs": [],
   "source": [
    "from sklearn.feature_extraction.text import TfidfVectorizer\n",
    "import pandas as pd"
   ]
  },
  {
   "cell_type": "code",
   "execution_count": 25,
   "id": "e85766a4-cb0b-4702-b784-39d723ad0466",
   "metadata": {},
   "outputs": [],
   "source": [
    "text1 = \"\"\"Machine learning is a branch of artificial intelligence that focuses on building systems \n",
    "that can learn from and make decisions based on data. It includes algorithms such as decision trees, \n",
    "support vector machines, and neural networks.\"\"\""
   ]
  },
  {
   "cell_type": "code",
   "execution_count": 26,
   "id": "09f771ea-ce78-4a62-927f-19807c7785d8",
   "metadata": {},
   "outputs": [],
   "source": [
    "text2 = \"\"\"Deep learning is a subset of machine learning that uses neural networks with many layers. \n",
    "It is particularly useful for tasks such as image recognition, natural language processing, \n",
    "and complex pattern recognition.\"\"\""
   ]
  },
  {
   "cell_type": "code",
   "execution_count": 27,
   "id": "acc95b84-187e-4a2b-bff7-9829714efe05",
   "metadata": {},
   "outputs": [],
   "source": [
    "vect = TfidfVectorizer()"
   ]
  },
  {
   "cell_type": "code",
   "execution_count": 28,
   "id": "837ec913-7484-476b-9d14-b0826517cbee",
   "metadata": {},
   "outputs": [],
   "source": [
    "tfidf_matrix = vect.fit_transform([text1, text2])"
   ]
  },
  {
   "cell_type": "code",
   "execution_count": 29,
   "id": "003ff254-ce4d-4128-821b-9a39484f64ac",
   "metadata": {},
   "outputs": [],
   "source": [
    "tfidf_array = tfidf_matrix.toarray()"
   ]
  },
  {
   "cell_type": "code",
   "execution_count": 36,
   "id": "67fdf1a9-97f3-4de2-8d4c-55f9a640bd67",
   "metadata": {},
   "outputs": [
    {
     "data": {
      "text/plain": [
       "array(['algorithms', 'and', 'artificial', 'as', 'based', 'branch',\n",
       "       'building', 'can', 'complex', 'data', 'decision', 'decisions',\n",
       "       'deep', 'focuses', 'for', 'from', 'image', 'includes',\n",
       "       'intelligence', 'is', 'it', 'language', 'layers', 'learn',\n",
       "       'learning', 'machine', 'machines', 'make', 'many', 'natural',\n",
       "       'networks', 'neural', 'of', 'on', 'particularly', 'pattern',\n",
       "       'processing', 'recognition', 'subset', 'such', 'support',\n",
       "       'systems', 'tasks', 'that', 'trees', 'useful', 'uses', 'vector',\n",
       "       'with'], dtype=object)"
      ]
     },
     "execution_count": 36,
     "metadata": {},
     "output_type": "execute_result"
    }
   ],
   "source": [
    "vocabulary =vect.get_feature_names_out()\n",
    "vocabulary"
   ]
  },
  {
   "cell_type": "code",
   "execution_count": 31,
   "id": "6e7f4b9e-3b3a-44d8-b8b4-ac099ee3a44a",
   "metadata": {},
   "outputs": [],
   "source": [
    "df_tfidf = pd.DataFrame(tfidf_array, columns=vocabulary, index=[\"text1\", \"text2\"])"
   ]
  },
  {
   "cell_type": "code",
   "execution_count": 33,
   "id": "1887c058-9ee1-447c-97d3-feec39b91f1a",
   "metadata": {},
   "outputs": [
    {
     "data": {
      "text/html": [
       "<div>\n",
       "<style scoped>\n",
       "    .dataframe tbody tr th:only-of-type {\n",
       "        vertical-align: middle;\n",
       "    }\n",
       "\n",
       "    .dataframe tbody tr th {\n",
       "        vertical-align: top;\n",
       "    }\n",
       "\n",
       "    .dataframe thead th {\n",
       "        text-align: right;\n",
       "    }\n",
       "</style>\n",
       "<table border=\"1\" class=\"dataframe\">\n",
       "  <thead>\n",
       "    <tr style=\"text-align: right;\">\n",
       "      <th></th>\n",
       "      <th>algorithms</th>\n",
       "      <th>and</th>\n",
       "      <th>artificial</th>\n",
       "      <th>as</th>\n",
       "      <th>based</th>\n",
       "      <th>branch</th>\n",
       "      <th>building</th>\n",
       "      <th>can</th>\n",
       "      <th>complex</th>\n",
       "      <th>data</th>\n",
       "      <th>...</th>\n",
       "      <th>such</th>\n",
       "      <th>support</th>\n",
       "      <th>systems</th>\n",
       "      <th>tasks</th>\n",
       "      <th>that</th>\n",
       "      <th>trees</th>\n",
       "      <th>useful</th>\n",
       "      <th>uses</th>\n",
       "      <th>vector</th>\n",
       "      <th>with</th>\n",
       "    </tr>\n",
       "  </thead>\n",
       "  <tbody>\n",
       "    <tr>\n",
       "      <th>text1</th>\n",
       "      <td>0.175</td>\n",
       "      <td>0.249</td>\n",
       "      <td>0.175</td>\n",
       "      <td>0.125</td>\n",
       "      <td>0.175</td>\n",
       "      <td>0.175</td>\n",
       "      <td>0.175</td>\n",
       "      <td>0.175</td>\n",
       "      <td>0.000</td>\n",
       "      <td>0.175</td>\n",
       "      <td>...</td>\n",
       "      <td>0.125</td>\n",
       "      <td>0.175</td>\n",
       "      <td>0.175</td>\n",
       "      <td>0.000</td>\n",
       "      <td>0.249</td>\n",
       "      <td>0.175</td>\n",
       "      <td>0.000</td>\n",
       "      <td>0.000</td>\n",
       "      <td>0.175</td>\n",
       "      <td>0.000</td>\n",
       "    </tr>\n",
       "    <tr>\n",
       "      <th>text2</th>\n",
       "      <td>0.000</td>\n",
       "      <td>0.133</td>\n",
       "      <td>0.000</td>\n",
       "      <td>0.133</td>\n",
       "      <td>0.000</td>\n",
       "      <td>0.000</td>\n",
       "      <td>0.000</td>\n",
       "      <td>0.000</td>\n",
       "      <td>0.187</td>\n",
       "      <td>0.000</td>\n",
       "      <td>...</td>\n",
       "      <td>0.133</td>\n",
       "      <td>0.000</td>\n",
       "      <td>0.000</td>\n",
       "      <td>0.187</td>\n",
       "      <td>0.133</td>\n",
       "      <td>0.000</td>\n",
       "      <td>0.187</td>\n",
       "      <td>0.187</td>\n",
       "      <td>0.000</td>\n",
       "      <td>0.187</td>\n",
       "    </tr>\n",
       "  </tbody>\n",
       "</table>\n",
       "<p>2 rows × 49 columns</p>\n",
       "</div>"
      ],
      "text/plain": [
       "       algorithms    and  artificial     as  based  branch  building    can  \\\n",
       "text1       0.175  0.249       0.175  0.125  0.175   0.175     0.175  0.175   \n",
       "text2       0.000  0.133       0.000  0.133  0.000   0.000     0.000  0.000   \n",
       "\n",
       "       complex   data  ...   such  support  systems  tasks   that  trees  \\\n",
       "text1    0.000  0.175  ...  0.125    0.175    0.175  0.000  0.249  0.175   \n",
       "text2    0.187  0.000  ...  0.133    0.000    0.000  0.187  0.133  0.000   \n",
       "\n",
       "       useful   uses  vector   with  \n",
       "text1   0.000  0.000   0.175  0.000  \n",
       "text2   0.187  0.187   0.000  0.187  \n",
       "\n",
       "[2 rows x 49 columns]"
      ]
     },
     "execution_count": 33,
     "metadata": {},
     "output_type": "execute_result"
    }
   ],
   "source": [
    "df_tfidf.round(3)"
   ]
  },
  {
   "cell_type": "code",
   "execution_count": null,
   "id": "e9ef572c-4993-4506-aa58-9468c9e8fdca",
   "metadata": {},
   "outputs": [],
   "source": []
  }
 ],
 "metadata": {
  "kernelspec": {
   "display_name": "Python 3 (ipykernel)",
   "language": "python",
   "name": "python3"
  },
  "language_info": {
   "codemirror_mode": {
    "name": "ipython",
    "version": 3
   },
   "file_extension": ".py",
   "mimetype": "text/x-python",
   "name": "python",
   "nbconvert_exporter": "python",
   "pygments_lexer": "ipython3",
   "version": "3.11.4"
  }
 },
 "nbformat": 4,
 "nbformat_minor": 5
}
