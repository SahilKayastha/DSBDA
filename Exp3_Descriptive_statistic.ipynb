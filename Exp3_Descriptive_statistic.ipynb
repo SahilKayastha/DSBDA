{
 "cells": [
  {
   "cell_type": "markdown",
   "id": "30c309bd-cd3e-4fcd-a458-4c4b066807d0",
   "metadata": {},
   "source": [
    "Problem Statement: **Descriptive Statistics**\n",
    "\n",
    "* Provide summary statistics (mean, median, min, max, standard deviation) for numeric variables, grouped by a categorical variable.\n",
    "* Create a list containing numeric values for each response to the categorical variable.\n",
    "* Write a Python program to display basic statistical details (percentile, mean, standard deviation, etc.) for the species in the Iris dataset.\n",
    "  * Focus on the species 'Iris-setosa', 'Iris-versicolor', and 'Iris-virginica'."
   ]
  },
  {
   "cell_type": "markdown",
   "id": "f078a18f-1c56-4caa-9890-10b4dfd3310c",
   "metadata": {},
   "source": [
    "### import Required Files"
   ]
  },
  {
   "cell_type": "code",
   "execution_count": 1,
   "id": "ead0e530-1cc6-476d-9524-cb3da5a20fb8",
   "metadata": {},
   "outputs": [],
   "source": [
    "import pandas as pd\n",
    "import numpy as np"
   ]
  },
  {
   "cell_type": "markdown",
   "id": "79614ac2-b857-4da3-9c76-801760c71c1d",
   "metadata": {},
   "source": [
    "### read CSV File"
   ]
  },
  {
   "cell_type": "code",
   "execution_count": 2,
   "id": "1cc2787b-8b64-4f6b-bb51-a2d36464cac3",
   "metadata": {},
   "outputs": [],
   "source": [
    "df = pd.read_csv(\"6_Iris.csv\")"
   ]
  },
  {
   "cell_type": "code",
   "execution_count": 3,
   "id": "98054890-a66e-4249-a091-ea4ce4b3692f",
   "metadata": {},
   "outputs": [
    {
     "data": {
      "text/html": [
       "<div>\n",
       "<style scoped>\n",
       "    .dataframe tbody tr th:only-of-type {\n",
       "        vertical-align: middle;\n",
       "    }\n",
       "\n",
       "    .dataframe tbody tr th {\n",
       "        vertical-align: top;\n",
       "    }\n",
       "\n",
       "    .dataframe thead th {\n",
       "        text-align: right;\n",
       "    }\n",
       "</style>\n",
       "<table border=\"1\" class=\"dataframe\">\n",
       "  <thead>\n",
       "    <tr style=\"text-align: right;\">\n",
       "      <th></th>\n",
       "      <th>Id</th>\n",
       "      <th>SepalLengthCm</th>\n",
       "      <th>SepalWidthCm</th>\n",
       "      <th>PetalLengthCm</th>\n",
       "      <th>PetalWidthCm</th>\n",
       "      <th>Species</th>\n",
       "    </tr>\n",
       "  </thead>\n",
       "  <tbody>\n",
       "    <tr>\n",
       "      <th>0</th>\n",
       "      <td>1</td>\n",
       "      <td>5.1</td>\n",
       "      <td>3.5</td>\n",
       "      <td>1.4</td>\n",
       "      <td>0.2</td>\n",
       "      <td>Iris-setosa</td>\n",
       "    </tr>\n",
       "    <tr>\n",
       "      <th>1</th>\n",
       "      <td>2</td>\n",
       "      <td>4.9</td>\n",
       "      <td>3.0</td>\n",
       "      <td>1.4</td>\n",
       "      <td>0.2</td>\n",
       "      <td>Iris-setosa</td>\n",
       "    </tr>\n",
       "    <tr>\n",
       "      <th>2</th>\n",
       "      <td>3</td>\n",
       "      <td>4.7</td>\n",
       "      <td>3.2</td>\n",
       "      <td>1.3</td>\n",
       "      <td>0.2</td>\n",
       "      <td>Iris-setosa</td>\n",
       "    </tr>\n",
       "    <tr>\n",
       "      <th>3</th>\n",
       "      <td>4</td>\n",
       "      <td>4.6</td>\n",
       "      <td>3.1</td>\n",
       "      <td>1.5</td>\n",
       "      <td>0.2</td>\n",
       "      <td>Iris-setosa</td>\n",
       "    </tr>\n",
       "    <tr>\n",
       "      <th>4</th>\n",
       "      <td>5</td>\n",
       "      <td>5.0</td>\n",
       "      <td>3.6</td>\n",
       "      <td>1.4</td>\n",
       "      <td>0.2</td>\n",
       "      <td>Iris-setosa</td>\n",
       "    </tr>\n",
       "  </tbody>\n",
       "</table>\n",
       "</div>"
      ],
      "text/plain": [
       "   Id  SepalLengthCm  SepalWidthCm  PetalLengthCm  PetalWidthCm      Species\n",
       "0   1            5.1           3.5            1.4           0.2  Iris-setosa\n",
       "1   2            4.9           3.0            1.4           0.2  Iris-setosa\n",
       "2   3            4.7           3.2            1.3           0.2  Iris-setosa\n",
       "3   4            4.6           3.1            1.5           0.2  Iris-setosa\n",
       "4   5            5.0           3.6            1.4           0.2  Iris-setosa"
      ]
     },
     "execution_count": 3,
     "metadata": {},
     "output_type": "execute_result"
    }
   ],
   "source": [
    "df.head()"
   ]
  },
  {
   "cell_type": "markdown",
   "id": "0ac3c1ca-613e-49ac-bf3b-263e5a09d101",
   "metadata": {},
   "source": [
    "### Drop the 'Id' column as it is not needed"
   ]
  },
  {
   "cell_type": "code",
   "execution_count": 4,
   "id": "57decc63-c5ac-445f-aa38-b0ecbc0f4387",
   "metadata": {},
   "outputs": [],
   "source": [
    "df.drop(\"Id\", axis=1, inplace=True)"
   ]
  },
  {
   "cell_type": "markdown",
   "id": "c3cfc6b8-7778-44d8-9153-f1215c246a04",
   "metadata": {},
   "source": [
    "### Get the list of species"
   ]
  },
  {
   "cell_type": "code",
   "execution_count": 5,
   "id": "4986c4c2-64e4-42c0-a8fb-6de788a0d147",
   "metadata": {},
   "outputs": [],
   "source": [
    "species_list = df['Species'].unique()"
   ]
  },
  {
   "cell_type": "markdown",
   "id": "b74b2941-a5ee-4f1a-9765-a67dd1f0ed94",
   "metadata": {},
   "source": [
    "### Print statstical details"
   ]
  },
  {
   "cell_type": "code",
   "execution_count": 6,
   "id": "4f041556-18d7-458a-9e38-626a2339c2fa",
   "metadata": {},
   "outputs": [],
   "source": [
    "cat_col = \"Species\"\n",
    "num_col = ['SepalLengthCm', 'SepalWidthCm', 'PetalLengthCm', 'PetalWidthCm']"
   ]
  },
  {
   "cell_type": "code",
   "execution_count": 7,
   "id": "ee423826-0c03-4b49-9c24-fb6d1024431e",
   "metadata": {},
   "outputs": [
    {
     "name": "stdout",
     "output_type": "stream",
     "text": [
      "Mean of SepalLengthCm :  5.843333333333334\n",
      "Mean of SepalWidthCm :  3.0540000000000003\n",
      "Mean of PetalLengthCm :  3.758666666666666\n",
      "Mean of PetalWidthCm :  1.1986666666666668\n"
     ]
    }
   ],
   "source": [
    "for i in num_col:\n",
    "    print(\"Mean of\", i, \": \", df[i].mean() )"
   ]
  },
  {
   "cell_type": "code",
   "execution_count": 8,
   "id": "db908714-20d0-4951-a526-055f868e0219",
   "metadata": {},
   "outputs": [
    {
     "name": "stdout",
     "output_type": "stream",
     "text": [
      "Standard Deviation of SepalLengthCm :  0.828066127977863\n",
      "Standard Deviation of SepalWidthCm :  0.4335943113621737\n",
      "Standard Deviation of PetalLengthCm :  1.7644204199522626\n",
      "Standard Deviation of PetalWidthCm :  0.7631607417008411\n"
     ]
    }
   ],
   "source": [
    "for i in num_col:\n",
    "    print(\"Standard Deviation of\", i, \": \", df[i].std() )"
   ]
  },
  {
   "cell_type": "code",
   "execution_count": 9,
   "id": "5f2d5d61-5179-4670-bace-ae1a12309f01",
   "metadata": {},
   "outputs": [
    {
     "name": "stdout",
     "output_type": "stream",
     "text": [
      "Mean of SepalLengthCm :  5.843333333333334\n",
      "Mean of SepalWidthCm :  3.0540000000000003\n",
      "Mean of PetalLengthCm :  3.758666666666666\n",
      "Mean of PetalWidthCm :  1.1986666666666668\n"
     ]
    }
   ],
   "source": [
    "for i in num_col:\n",
    "    print(\"Mean of\", i, \": \", df[i].mean() )"
   ]
  },
  {
   "cell_type": "code",
   "execution_count": 10,
   "id": "be396591-065f-4300-a49a-b8720c6ea075",
   "metadata": {},
   "outputs": [
    {
     "name": "stdout",
     "output_type": "stream",
     "text": [
      "25th Percentile SepalLengthCm :  5.1\n",
      "25th Percentile SepalWidthCm :  2.8\n",
      "25th Percentile PetalLengthCm :  1.6\n",
      "25th Percentile PetalWidthCm :  0.3\n"
     ]
    }
   ],
   "source": [
    "for i in num_col:\n",
    "    print(\"25th Percentile\", i, \": \", df[i].quantile(0.25) )"
   ]
  },
  {
   "cell_type": "markdown",
   "id": "5fd0c7b8-1f77-4990-a699-51e0f33ae6d0",
   "metadata": {},
   "source": [
    "### Print basic statistical details for each species"
   ]
  },
  {
   "cell_type": "code",
   "execution_count": 11,
   "id": "35c75d27-00e4-4a65-b228-e2208007092a",
   "metadata": {},
   "outputs": [
    {
     "name": "stdout",
     "output_type": "stream",
     "text": [
      "\n",
      "Statistics for: Iris-setosa\n",
      "       SepalLengthCm  SepalWidthCm  PetalLengthCm  PetalWidthCm\n",
      "count       50.00000     50.000000      50.000000      50.00000\n",
      "mean         5.00600      3.418000       1.464000       0.24400\n",
      "std          0.35249      0.381024       0.173511       0.10721\n",
      "min          4.30000      2.300000       1.000000       0.10000\n",
      "25%          4.80000      3.125000       1.400000       0.20000\n",
      "50%          5.00000      3.400000       1.500000       0.20000\n",
      "75%          5.20000      3.675000       1.575000       0.30000\n",
      "max          5.80000      4.400000       1.900000       0.60000\n",
      "\n",
      "Statistics for: Iris-versicolor\n",
      "       SepalLengthCm  SepalWidthCm  PetalLengthCm  PetalWidthCm\n",
      "count      50.000000     50.000000      50.000000     50.000000\n",
      "mean        5.936000      2.770000       4.260000      1.326000\n",
      "std         0.516171      0.313798       0.469911      0.197753\n",
      "min         4.900000      2.000000       3.000000      1.000000\n",
      "25%         5.600000      2.525000       4.000000      1.200000\n",
      "50%         5.900000      2.800000       4.350000      1.300000\n",
      "75%         6.300000      3.000000       4.600000      1.500000\n",
      "max         7.000000      3.400000       5.100000      1.800000\n",
      "\n",
      "Statistics for: Iris-virginica\n",
      "       SepalLengthCm  SepalWidthCm  PetalLengthCm  PetalWidthCm\n",
      "count       50.00000     50.000000      50.000000      50.00000\n",
      "mean         6.58800      2.974000       5.552000       2.02600\n",
      "std          0.63588      0.322497       0.551895       0.27465\n",
      "min          4.90000      2.200000       4.500000       1.40000\n",
      "25%          6.22500      2.800000       5.100000       1.80000\n",
      "50%          6.50000      3.000000       5.550000       2.00000\n",
      "75%          6.90000      3.175000       5.875000       2.30000\n",
      "max          7.90000      3.800000       6.900000       2.50000\n"
     ]
    }
   ],
   "source": [
    "for species in species_list:\n",
    "    print(f\"\\nStatistics for: {species}\")\n",
    "    \n",
    "    # Filter the dataframe for current species\n",
    "    species_df = df[df['Species'] == species]\n",
    "    \n",
    "    # Describe gives count, mean, std, min, 25%, 50%, 75%, max\n",
    "    stats = species_df.describe()\n",
    "    \n",
    "    # Display the statistics\n",
    "    print(stats)"
   ]
  },
  {
   "cell_type": "markdown",
   "id": "e9a25b38-f3be-4711-9354-0fcd61b384a2",
   "metadata": {},
   "source": [
    "### Numerical to categorical Conversion"
   ]
  },
  {
   "cell_type": "code",
   "execution_count": 12,
   "id": "6d0f30bb-d9c5-452a-a65a-0177a050eaa8",
   "metadata": {},
   "outputs": [],
   "source": [
    "from sklearn.preprocessing import LabelEncoder"
   ]
  },
  {
   "cell_type": "code",
   "execution_count": 13,
   "id": "0ca6daf7-0188-4d61-bbf4-6b3f9f874fc1",
   "metadata": {},
   "outputs": [],
   "source": [
    "le = LabelEncoder()"
   ]
  },
  {
   "cell_type": "code",
   "execution_count": 14,
   "id": "6c6ea067-4437-4df5-97ec-e283439a6fae",
   "metadata": {},
   "outputs": [],
   "source": [
    "df[\"Species\"] = le.fit_transform(df[\"Species\"])"
   ]
  },
  {
   "cell_type": "code",
   "execution_count": 15,
   "id": "b6ed1a56-d8f2-4026-abdd-0bdc856b4f6b",
   "metadata": {},
   "outputs": [
    {
     "data": {
      "text/html": [
       "<div>\n",
       "<style scoped>\n",
       "    .dataframe tbody tr th:only-of-type {\n",
       "        vertical-align: middle;\n",
       "    }\n",
       "\n",
       "    .dataframe tbody tr th {\n",
       "        vertical-align: top;\n",
       "    }\n",
       "\n",
       "    .dataframe thead th {\n",
       "        text-align: right;\n",
       "    }\n",
       "</style>\n",
       "<table border=\"1\" class=\"dataframe\">\n",
       "  <thead>\n",
       "    <tr style=\"text-align: right;\">\n",
       "      <th></th>\n",
       "      <th>SepalLengthCm</th>\n",
       "      <th>SepalWidthCm</th>\n",
       "      <th>PetalLengthCm</th>\n",
       "      <th>PetalWidthCm</th>\n",
       "      <th>Species</th>\n",
       "    </tr>\n",
       "  </thead>\n",
       "  <tbody>\n",
       "    <tr>\n",
       "      <th>0</th>\n",
       "      <td>5.1</td>\n",
       "      <td>3.5</td>\n",
       "      <td>1.4</td>\n",
       "      <td>0.2</td>\n",
       "      <td>0</td>\n",
       "    </tr>\n",
       "    <tr>\n",
       "      <th>1</th>\n",
       "      <td>4.9</td>\n",
       "      <td>3.0</td>\n",
       "      <td>1.4</td>\n",
       "      <td>0.2</td>\n",
       "      <td>0</td>\n",
       "    </tr>\n",
       "    <tr>\n",
       "      <th>2</th>\n",
       "      <td>4.7</td>\n",
       "      <td>3.2</td>\n",
       "      <td>1.3</td>\n",
       "      <td>0.2</td>\n",
       "      <td>0</td>\n",
       "    </tr>\n",
       "    <tr>\n",
       "      <th>3</th>\n",
       "      <td>4.6</td>\n",
       "      <td>3.1</td>\n",
       "      <td>1.5</td>\n",
       "      <td>0.2</td>\n",
       "      <td>0</td>\n",
       "    </tr>\n",
       "    <tr>\n",
       "      <th>4</th>\n",
       "      <td>5.0</td>\n",
       "      <td>3.6</td>\n",
       "      <td>1.4</td>\n",
       "      <td>0.2</td>\n",
       "      <td>0</td>\n",
       "    </tr>\n",
       "    <tr>\n",
       "      <th>...</th>\n",
       "      <td>...</td>\n",
       "      <td>...</td>\n",
       "      <td>...</td>\n",
       "      <td>...</td>\n",
       "      <td>...</td>\n",
       "    </tr>\n",
       "    <tr>\n",
       "      <th>145</th>\n",
       "      <td>6.7</td>\n",
       "      <td>3.0</td>\n",
       "      <td>5.2</td>\n",
       "      <td>2.3</td>\n",
       "      <td>2</td>\n",
       "    </tr>\n",
       "    <tr>\n",
       "      <th>146</th>\n",
       "      <td>6.3</td>\n",
       "      <td>2.5</td>\n",
       "      <td>5.0</td>\n",
       "      <td>1.9</td>\n",
       "      <td>2</td>\n",
       "    </tr>\n",
       "    <tr>\n",
       "      <th>147</th>\n",
       "      <td>6.5</td>\n",
       "      <td>3.0</td>\n",
       "      <td>5.2</td>\n",
       "      <td>2.0</td>\n",
       "      <td>2</td>\n",
       "    </tr>\n",
       "    <tr>\n",
       "      <th>148</th>\n",
       "      <td>6.2</td>\n",
       "      <td>3.4</td>\n",
       "      <td>5.4</td>\n",
       "      <td>2.3</td>\n",
       "      <td>2</td>\n",
       "    </tr>\n",
       "    <tr>\n",
       "      <th>149</th>\n",
       "      <td>5.9</td>\n",
       "      <td>3.0</td>\n",
       "      <td>5.1</td>\n",
       "      <td>1.8</td>\n",
       "      <td>2</td>\n",
       "    </tr>\n",
       "  </tbody>\n",
       "</table>\n",
       "<p>150 rows × 5 columns</p>\n",
       "</div>"
      ],
      "text/plain": [
       "     SepalLengthCm  SepalWidthCm  PetalLengthCm  PetalWidthCm  Species\n",
       "0              5.1           3.5            1.4           0.2        0\n",
       "1              4.9           3.0            1.4           0.2        0\n",
       "2              4.7           3.2            1.3           0.2        0\n",
       "3              4.6           3.1            1.5           0.2        0\n",
       "4              5.0           3.6            1.4           0.2        0\n",
       "..             ...           ...            ...           ...      ...\n",
       "145            6.7           3.0            5.2           2.3        2\n",
       "146            6.3           2.5            5.0           1.9        2\n",
       "147            6.5           3.0            5.2           2.0        2\n",
       "148            6.2           3.4            5.4           2.3        2\n",
       "149            5.9           3.0            5.1           1.8        2\n",
       "\n",
       "[150 rows x 5 columns]"
      ]
     },
     "execution_count": 15,
     "metadata": {},
     "output_type": "execute_result"
    }
   ],
   "source": [
    "df"
   ]
  },
  {
   "cell_type": "code",
   "execution_count": null,
   "id": "f8a0367f-b96c-4151-b59c-1d54dd874d05",
   "metadata": {},
   "outputs": [],
   "source": []
  }
 ],
 "metadata": {
  "kernelspec": {
   "display_name": "Python 3 (ipykernel)",
   "language": "python",
   "name": "python3"
  },
  "language_info": {
   "codemirror_mode": {
    "name": "ipython",
    "version": 3
   },
   "file_extension": ".py",
   "mimetype": "text/x-python",
   "name": "python",
   "nbconvert_exporter": "python",
   "pygments_lexer": "ipython3",
   "version": "3.11.4"
  }
 },
 "nbformat": 4,
 "nbformat_minor": 5
}
